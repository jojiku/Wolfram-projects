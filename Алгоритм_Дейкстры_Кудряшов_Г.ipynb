{
  "nbformat": 4,
  "nbformat_minor": 0,
  "metadata": {
    "colab": {
      "provenance": [],
      "collapsed_sections": []
    },
    "kernelspec": {
      "name": "python3",
      "display_name": "Python 3"
    },
    "language_info": {
      "name": "python"
    }
  },
  "cells": [
    {
      "cell_type": "code",
      "execution_count": 56,
      "metadata": {
        "id": "tg7s6o618FOM"
      },
      "outputs": [],
      "source": [
        "import networkx as nx\n",
        "import numpy as np\n",
        "import heapq\n",
        "import matplotlib.pyplot as plt"
      ]
    },
    {
      "cell_type": "markdown",
      "source": [
        "# Алгорим Дейкстры"
      ],
      "metadata": {
        "id": "rrkPMhXNA0nS"
      }
    },
    {
      "cell_type": "code",
      "source": [
        "def dijkstra(graph, start):\n",
        "  distances = {node: float('inf') for node in graph}\n",
        "  distances[start] = 0  # начальное значение равно 0\n",
        "  queue = []\n",
        "  heapq.heappush(queue, [distances[start], start])  # поиск с начальной вершины\n",
        "\n",
        "  while queue:  # функция останавливает работу, когда в очереди не остается непосещенных вершин\n",
        "    current_distance, current_destination = heapq.heappop(queue)\n",
        "\n",
        "    if distances[current_destination] < current_distance:\n",
        "      continue\n",
        "    \n",
        "    for new_destination, new_distance in graph[current_destination].items():\n",
        "      distance = current_distance + new_distance  # расстояние при прохождении через данную вершину\n",
        "      if distance < distances[new_destination]:\n",
        "        distances[new_destination] = distance\n",
        "        heapq.heappush(queue, [distance, new_destination])\n",
        "    \n",
        "  return distances"
      ],
      "metadata": {
        "id": "fy6gTqEsBWZK"
      },
      "execution_count": 57,
      "outputs": []
    },
    {
      "cell_type": "markdown",
      "source": [
        "# Реализация алгоритма на примере"
      ],
      "metadata": {
        "id": "wl3bfd7fBY4C"
      }
    },
    {
      "cell_type": "markdown",
      "source": [
        "## Инициализация графа"
      ],
      "metadata": {
        "id": "5kBfjn8KBgz6"
      }
    },
    {
      "cell_type": "code",
      "source": [
        "graph = {\n",
        "    'A': {'B': 7, 'C': 9, 'F': 14},\n",
        "    'B': {'A': 7, 'C': 10, 'D': 15},\n",
        "    'C': {'A': 9, 'B': 10, 'D': 11, 'F': 2},\n",
        "    'D': {'B': 15, 'C': 11, 'E': 6},\n",
        "    'E': {'D': 6, 'F': 9},\n",
        "    'F': {'A': 14,'C': 2, 'E': 9}\n",
        "}"
      ],
      "metadata": {
        "id": "DeuHd-vo8PQ3"
      },
      "execution_count": 58,
      "outputs": []
    },
    {
      "cell_type": "code",
      "source": [
        "g = nx.Graph()\n",
        " \n",
        "g.add_edge('A', 'B')\n",
        "g.add_edge('A', 'C')\n",
        "g.add_edge('A', 'F')\n",
        "\n",
        "g.add_edge('B', 'C')\n",
        "g.add_edge('B', 'D')\n",
        "\n",
        "g.add_edge('C', 'F')\n",
        "g.add_edge('C', 'D')\n",
        "\n",
        "g.add_edge('D', 'E')\n",
        "\n",
        "g.add_edge('E', 'F')\n",
        "\n",
        "g.add_edge('F', 'E')\n",
        "nx.draw(g, with_labels = True, node_color='red', node_size=1000, edge_color = \"magenta\")"
      ],
      "metadata": {
        "colab": {
          "base_uri": "https://localhost:8080/",
          "height": 319
        },
        "id": "t58ys2Jt8QiI",
        "outputId": "94356159-1ee6-4f51-9810-dd8202ba2e51"
      },
      "execution_count": 59,
      "outputs": [
        {
          "output_type": "display_data",
          "data": {
            "text/plain": [
              "<Figure size 432x288 with 1 Axes>"
            ],
            "image/png": "[encoded data removed]"
          },
          "metadata": {}
        }
      ]
    },
    {
      "cell_type": "markdown",
      "source": [
        "## Реализация"
      ],
      "metadata": {
        "id": "OZ7eJqItBnko"
      }
    },
    {
      "cell_type": "code",
      "source": [
        "print(dijkstra(graph, 'A'))"
      ],
      "metadata": {
        "colab": {
          "base_uri": "https://localhost:8080/"
        },
        "id": "Ln5Fph4-8kgU",
        "outputId": "afce1a18-8ede-40af-d10b-f7ecfe96eac1"
      },
      "execution_count": 60,
      "outputs": [
        {
          "output_type": "stream",
          "name": "stdout",
          "text": [
            "{'A': 0, 'B': 7, 'C': 9, 'D': 20, 'E': 20, 'F': 11}\n"
          ]
        }
      ]
    }
  ]
}